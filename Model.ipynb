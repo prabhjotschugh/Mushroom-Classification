{
 "cells": [
  {
   "cell_type": "code",
   "execution_count": 1,
   "id": "992dd661",
   "metadata": {},
   "outputs": [],
   "source": [
    "import numpy as np \n",
    "import pandas as pd\n",
    "import matplotlib.pyplot as plt \n",
    "import seaborn as sns"
   ]
  },
  {
   "cell_type": "code",
   "execution_count": 2,
   "id": "80d5199d",
   "metadata": {},
   "outputs": [],
   "source": [
    "import warnings\n",
    "warnings.filterwarnings('ignore')"
   ]
  },
  {
   "cell_type": "code",
   "execution_count": 3,
   "id": "7c3f1f6d",
   "metadata": {},
   "outputs": [],
   "source": [
    "data = pd.read_csv('mushrooms.csv')\n",
    "\n",
    "# In stalk-root column the '?' represents missing values. So we have to convert it into null values\n",
    "\n",
    "data.replace({'?': np.nan}, inplace=True)\n",
    "data.loc[(data['stalk-root'].isna()) & (data['stalk-shape']=='t'),'stalk-root']=data[data['stalk-shape']=='t']['stalk-root'].mode()[0]\n",
    "data.loc[(data['stalk-root'].isna()) & (data['stalk-shape']=='e'),'stalk-root']=data[data['stalk-shape']=='e']['stalk-root'].mode()[0]"
   ]
  },
  {
   "cell_type": "code",
   "execution_count": 4,
   "id": "815bd59d",
   "metadata": {},
   "outputs": [],
   "source": [
    "# One hot encoding\n",
    "\n",
    "data1=pd.get_dummies(data[['cap-shape','cap-surface','veil-type','gill-attachment']])"
   ]
  },
  {
   "cell_type": "code",
   "execution_count": 5,
   "id": "fcb03a05",
   "metadata": {},
   "outputs": [],
   "source": [
    "# Concat data frames data and data1\n",
    "\n",
    "data=pd.concat([data,data1], axis=1)\n",
    "data=data.drop(['cap-shape','cap-surface','veil-type','gill-attachment'],axis=1)"
   ]
  },
  {
   "cell_type": "code",
   "execution_count": 6,
   "id": "4a38f4a0",
   "metadata": {},
   "outputs": [],
   "source": [
    "# label encoding\n",
    "\n",
    "from sklearn.preprocessing import LabelEncoder\n",
    "label_en=LabelEncoder()\n",
    "for i in data[['class','cap-color','bruises','odor','gill-spacing','gill-size','gill-color','stalk-shape','stalk-root','stalk-surface-above-ring','stalk-surface-below-ring','stalk-color-above-ring','stalk-color-below-ring','veil-color','ring-number','ring-type','spore-print-color','population','habitat']]:\n",
    "    data[i]=label_en.fit_transform(data[i])\n",
    "    \n",
    "data=data.drop(['gill-attachment_f','gill-attachment_a','veil-type_p'],axis=1)"
   ]
  },
  {
   "cell_type": "code",
   "execution_count": 7,
   "id": "6687851f",
   "metadata": {},
   "outputs": [],
   "source": [
    "# Split the data set into target and features\n",
    "y = data['class']\n",
    "x = data.drop(['class'], axis=1)"
   ]
  },
  {
   "cell_type": "code",
   "execution_count": 8,
   "id": "d4410815",
   "metadata": {},
   "outputs": [],
   "source": [
    "# Split the data set into train and test \n",
    "from sklearn.model_selection import train_test_split\n",
    "x_train, x_test, y_train, y_test = train_test_split(x, y, random_state=42, test_size=0.3)"
   ]
  },
  {
   "cell_type": "code",
   "execution_count": 9,
   "id": "74da3ca6",
   "metadata": {},
   "outputs": [],
   "source": [
    "from sklearn.ensemble import RandomForestClassifier\n",
    "rf=RandomForestClassifier()\n",
    "rf.fit(x_train,y_train)\n",
    "y_predict=rf.predict(x_test)"
   ]
  },
  {
   "cell_type": "code",
   "execution_count": 10,
   "id": "73a23ba3",
   "metadata": {},
   "outputs": [],
   "source": [
    "# Drop the features having lower feature importance.\n",
    "\n",
    "x.drop(['stalk-color-above-ring','stalk-shape','stalk-color-below-ring','ring-number','cap-color','cap-surface_f','cap-surface_s','veil-color','cap-shape_b','cap-shape_x','cap-surface_y','cap-shape_f','cap-shape_s','cap-shape_k','cap-shape_c','cap-surface_g'], axis=1, inplace=True)"
   ]
  },
  {
   "cell_type": "code",
   "execution_count": 11,
   "id": "6d932b14",
   "metadata": {},
   "outputs": [],
   "source": [
    "# Split the data into train and test\n",
    "\n",
    "from sklearn.model_selection import train_test_split\n",
    "x_train,x_test,y_train,y_test=train_test_split(x,y, random_state=42, test_size=0.3)"
   ]
  },
  {
   "cell_type": "code",
   "execution_count": 12,
   "id": "e18e6d8f",
   "metadata": {},
   "outputs": [],
   "source": [
    "from sklearn.ensemble import RandomForestClassifier\n",
    "rf=RandomForestClassifier()\n",
    "rf.fit(x_train,y_train)\n",
    "y_predict=rf.predict(x_test)"
   ]
  },
  {
   "cell_type": "code",
   "execution_count": 13,
   "id": "841f4450",
   "metadata": {},
   "outputs": [],
   "source": [
    "# Save the model to disk\n",
    "\n",
    "import pickle\n",
    "pickle.dump(rf,open('model.pkl','wb'))"
   ]
  }
 ],
 "metadata": {
  "kernelspec": {
   "display_name": "Python 3",
   "language": "python",
   "name": "python3"
  },
  "language_info": {
   "codemirror_mode": {
    "name": "ipython",
    "version": 3
   },
   "file_extension": ".py",
   "mimetype": "text/x-python",
   "name": "python",
   "nbconvert_exporter": "python",
   "pygments_lexer": "ipython3",
   "version": "3.8.8"
  }
 },
 "nbformat": 4,
 "nbformat_minor": 5
}
